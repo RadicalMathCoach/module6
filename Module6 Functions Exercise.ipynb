{
 "cells": [
  {
   "cell_type": "markdown",
   "metadata": {},
   "source": [
    "1. Round 4.5667 to the nearest hundreth using a build-in function, round()."
   ]
  },
  {
   "cell_type": "code",
   "execution_count": 3,
   "metadata": {},
   "outputs": [
    {
     "data": {
      "text/plain": [
       "4.57"
      ]
     },
     "execution_count": 3,
     "metadata": {},
     "output_type": "execute_result"
    }
   ],
   "source": [
    "x=4.5667\n",
    "round(x,2)"
   ]
  },
  {
   "cell_type": "markdown",
   "metadata": {},
   "source": [
    "2. Convert \"657\" to an integer data type"
   ]
  },
  {
   "cell_type": "code",
   "execution_count": 5,
   "metadata": {},
   "outputs": [
    {
     "name": "stdout",
     "output_type": "stream",
     "text": [
      "657\n"
     ]
    }
   ],
   "source": [
    "x=\"657\"\n",
    "integer_version=int(x)\n",
    "print(integer_version)"
   ]
  },
  {
   "cell_type": "markdown",
   "metadata": {},
   "source": [
    "3.\n",
    "Write a program to get two numbers from a user. Then, create a secret code where a code consists of 6 numbers and each number is randomly generated number between two numbers from a user. "
   ]
  },
  {
   "cell_type": "code",
   "execution_count": null,
   "metadata": {},
   "outputs": [],
   "source": [
    "import random as random\n",
    "num_1=float(input(\"Enter Number 1:\"))\n",
    "num_2=float(input(\"Enter Number 2:\"))\n",
    "\n",
    "if num_1 > num_2:\n",
    "    num_1, num_2 = num_2, num_1 \n",
    "\n",
    "x=random.randint(num_1,num_2)\n",
    "y=random.randint(num_1,num_2)\n",
    "z=random.randint(num_1,num_2)\n",
    "a=random.randint(num_1,num_2)\n",
    "b=random.randint(num_1,num_2)\n",
    "c=random.randint(num_1,num_2)\n",
    "print(x,y,z,a,b,c, \"Is your secret code\")"
   ]
  },
  {
   "cell_type": "markdown",
   "metadata": {},
   "source": [
    "4.\n",
    "Write a program to center align below text where number of characters per line is 40:\n",
    "\n",
    "    Hickory, dickory, dock,\n",
    "    The mouse ran up the clock.\n",
    "    The clock struck one,\n",
    "    The mouse ran down,\n",
    "    Hickory, dickory, dock\n",
    "\n",
    "<b>Do not use string's center method! </b>"
   ]
  },
  {
   "cell_type": "code",
   "execution_count": 1,
   "metadata": {},
   "outputs": [
    {
     "name": "stdout",
     "output_type": "stream",
     "text": [
      "        Hickory, dickory, dock,\n",
      "      The mouse ran up the clock.\n",
      "         The clock struck one,\n",
      "          The mouse ran down,\n",
      "         Hickory, dickory, dock\n"
     ]
    }
   ],
   "source": [
    "line1 = \"Hickory, dickory, dock,\"\n",
    "line2 = \"The mouse ran up the clock.\"\n",
    "line3 = \"The clock struck one,\"\n",
    "line4 = \"The mouse ran down,\"\n",
    "line5 = \"Hickory, dickory, dock\"\n",
    "\n",
    "print(\" \" * ((40 - len(line1)) // 2) + line1)\n",
    "print(\" \" * ((40 - len(line2)) // 2) + line2)\n",
    "print(\" \" * ((40 - len(line3)) // 2) + line3)\n",
    "print(\" \" * ((40 - len(line4)) // 2) + line4)\n",
    "print(\" \" * ((40 - len(line5)) // 2) + line5)\n",
    "\n"
   ]
  },
  {
   "cell_type": "markdown",
   "metadata": {},
   "source": [
    "5. Write a function to calculate the miles per gallon.\n",
    "Get a miles driven and gallons used from a user and call your function to calculate the miles per gallon. "
   ]
  },
  {
   "cell_type": "code",
   "execution_count": 3,
   "metadata": {},
   "outputs": [
    {
     "name": "stdout",
     "output_type": "stream",
     "text": [
      "Enter miles driven:33\n",
      "Enter the gallons used:2.9\n",
      "The miles per gallon is 11.379310344827587\n"
     ]
    }
   ],
   "source": [
    "miles=float(input(\"Enter miles driven:\"))\n",
    "gallons=float(input(\"Enter the gallons used:\"))\n",
    "\n",
    "def mpg(miles,gallons):\n",
    "    return miles/gallons\n",
    "    \n",
    "\n",
    "print(\"The miles per gallon is\", mpg(miles,gallons))"
   ]
  },
  {
   "cell_type": "code",
   "execution_count": null,
   "metadata": {},
   "outputs": [],
   "source": []
  }
 ],
 "metadata": {
  "kernelspec": {
   "display_name": "Python 3 (ipykernel)",
   "language": "python",
   "name": "python3"
  },
  "language_info": {
   "codemirror_mode": {
    "name": "ipython",
    "version": 3
   },
   "file_extension": ".py",
   "mimetype": "text/x-python",
   "name": "python",
   "nbconvert_exporter": "python",
   "pygments_lexer": "ipython3",
   "version": "3.11.5"
  }
 },
 "nbformat": 4,
 "nbformat_minor": 4
}
